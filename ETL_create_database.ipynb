version https://git-lfs.github.com/spec/v1
oid sha256:fb7a2ca8a36bf182b0c60eaff62174c6f27ce449c222c4dbf2511f80c9bc790b
size 54672
